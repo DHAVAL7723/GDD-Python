{
 "cells": [
  {
   "cell_type": "code",
   "execution_count": 1,
   "metadata": {
    "collapsed": true
   },
   "outputs": [],
   "source": [
    "import matplotlib.pyplot as plt\n",
    "import matplotlib\n",
    "import serial\n",
    "import time\n",
    "import sys "
   ]
  },
  {
   "cell_type": "code",
   "execution_count": 3,
   "metadata": {
    "collapsed": false
   },
   "outputs": [],
   "source": [
    "class ZabberVoiceCoil:\n",
    "    \"\"\"Class for controlling the Zabber X-DMQ12P voice coil stage\n",
    "    \n",
    "    Attributes\n",
    "    ----------\n",
    "    \n",
    "    Examples\n",
    "    --------\n",
    "    >>> stage = ZabberVoiceCoil('COM4')\n",
    "    >>> stage.move_abs(1000)\n",
    "    >>> stage.close()\n",
    "    \n",
    "    \"\"\"\n",
    "    def __init__(self,com = 'COM3'):\n",
    "        \"\"\"Initiates the connection to the stage\n",
    "        \n",
    "        \n",
    "        \"\"\"\n",
    "        try:\n",
    "            self.__ser = None\n",
    "            self.__ser = serial.Serial(com, 115200 , timeout=1, parity=serial.PARITY_NONE)\n",
    "            # check device ID\n",
    "            self.__ser.write(('/get deviceid\\r\\n').encode('utf-8'))\n",
    "            qry = self.__ser.readline()\n",
    "            if qry.find(b'50419') == -1:\n",
    "                print('Error reading device ID.')\n",
    "                raise Exception()\n",
    "            else:\n",
    "                print('ID OK:' + str(qry)[2:-5])\n",
    "       \n",
    "        except:\n",
    "            if self.__ser is not None:\n",
    "                self.close()\n",
    "            print('Something went wrong:')\n",
    "            raise Exception('Error openning the communication')\n",
    "            \n",
    "            \n",
    "           \n",
    "    def home(self):\n",
    "        \"\"\"From any position to 0 \n",
    "        \"\"\"\n",
    "        \n",
    "        self.__ser.write(('/home \\r\\n').encode('utf-8'))\n",
    "        qry = self.__ser.readline()\n",
    "        print(qry)\n",
    "      \n",
    "    def move_abs(self,pos):\n",
    "        \"\"\"range 0(minimum position) .. 30000(mid position).. 60000(max position)\n",
    "        \n",
    "        \"\"\"\n",
    "        self.__ser.write(('/move abs {:d}  \\r\\n'.format(pos)).encode('utf-8'))\n",
    "        qry = self.__ser.readline()\n",
    "        print(qry)\n",
    "        \n",
    "    def set_velocity(self,vel):\n",
    "        \"\"\"range +ve or -ve (10..100..1000..10000)\n",
    "           also depends on current position of stage\n",
    "        \"\"\"\n",
    "        self.__ser.write(('/move vel {:d}  \\r\\n'.format(vel)).encode('utf-8'))\n",
    "        qry = self.__ser.readline()\n",
    "        print(qry)\n",
    "        \n",
    "    def stop(self):\n",
    "        self.__ser.write(('/stop \\r\\n').encode('utf-8'))\n",
    "        qry = self.__ser.readline()\n",
    "        print(qry)\n",
    "                \n",
    "    def move_rel(self, dist):\n",
    "        \"\"\"-60000 to +60000(depends on current position of stage)\n",
    "        \"\"\"\n",
    "        self.__ser.write(('/move abs {:d}  \\r\\n'.format(dist)).encode('utf-8'))\n",
    "        qry = self.__ser.readline()\n",
    "        print(qry)\n",
    "        \n",
    "    \n",
    "    def sin(self,amp,period,center=30000):\n",
    "        \"\"\" 1. Move to center position of stage\n",
    "            2. Amp(amplitude):- +- 1000 micro meter or 10000 micro meter\n",
    "            3. Period :- 100 ms or 1000 ms\n",
    "        \"\"\"\n",
    "        self.move_abs(center)\n",
    "    \n",
    "        wait = True;\n",
    "        while wait:\n",
    "            self.__ser.write(('/get deviceid\\r\\n').encode('utf-8'))\n",
    "            qry = self.__ser.readline()\n",
    "            if qry.find(b'IDLE') != -1:\n",
    "                wait = False\n",
    "                time.sleep(0.5)\n",
    "                \n",
    "        self.__ser.write(('/move sin {:d} {} \\r\\n'.format(amp,period)).encode('utf-8'))\n",
    "        qry = self.__ser.readline()\n",
    "        print(qry)    \n",
    "                \n",
    "    def sin_stop(self):\n",
    "        self.__ser.write(('/move sin stop \\r\\n').encode('utf-8'))\n",
    "        qry = self.__ser.readline()\n",
    "        print(qry)\n",
    "    \n",
    "    def close(self):\n",
    "        if self.__ser.is_open:\n",
    "            self.__ser.close()\n",
    "            print('Communication closed...')\n",
    "        else:\n",
    "            print('Communication was not open...')"
   ]
  },
  {
   "cell_type": "code",
   "execution_count": 8,
   "metadata": {
    "collapsed": false
   },
   "outputs": [
    {
     "name": "stdout",
     "output_type": "stream",
     "text": [
      "ID OK:@01 0 OK IDLE NI 50419\n"
     ]
    }
   ],
   "source": [
    "s = ZabberVoiceCoil('COM3')"
   ]
  },
  {
   "cell_type": "code",
   "execution_count": 30,
   "metadata": {
    "collapsed": false
   },
   "outputs": [
    {
     "name": "stdout",
     "output_type": "stream",
     "text": [
      "b'@01 0 OK BUSY -- 0\\r\\n'\n"
     ]
    }
   ],
   "source": [
    "s.home()                # From any position to 0  "
   ]
  },
  {
   "cell_type": "code",
   "execution_count": 29,
   "metadata": {
    "collapsed": false
   },
   "outputs": [
    {
     "name": "stdout",
     "output_type": "stream",
     "text": [
      "b'@01 0 OK BUSY -- 0\\r\\n'\n"
     ]
    }
   ],
   "source": [
    "s.move_abs(38900)    # range 0(minimum position), dis_mov is 0.6 cm at 30000(mid position),1.2 cm 60000(max position)"
   ]
  },
  {
   "cell_type": "code",
   "execution_count": 33,
   "metadata": {
    "collapsed": false
   },
   "outputs": [
    {
     "name": "stdout",
     "output_type": "stream",
     "text": [
      "b'@01 0 OK BUSY -- 0\\r\\n'\n"
     ]
    }
   ],
   "source": [
    "s.move_rel(30000) # range 0 to +60000(depends on current position of stage)"
   ]
  },
  {
   "cell_type": "code",
   "execution_count": 14,
   "metadata": {
    "collapsed": false
   },
   "outputs": [
    {
     "name": "stdout",
     "output_type": "stream",
     "text": [
      "b'@01 0 OK BUSY -- 0\\r\\n'\n"
     ]
    }
   ],
   "source": [
    "s.set_velocity(10000)    # range +ve or -ve (10..100..1000..10000)(depends on current position of stage)"
   ]
  },
  {
   "cell_type": "code",
   "execution_count": 5,
   "metadata": {
    "collapsed": false
   },
   "outputs": [
    {
     "name": "stdout",
     "output_type": "stream",
     "text": [
      "b'@01 0 OK BUSY NI 0\\r\\n'\n"
     ]
    }
   ],
   "source": [
    "s.stop()"
   ]
  },
  {
   "cell_type": "code",
   "execution_count": 9,
   "metadata": {
    "collapsed": false
   },
   "outputs": [
    {
     "name": "stdout",
     "output_type": "stream",
     "text": [
      "b'@01 0 OK BUSY -- 0\\r\\n'\n",
      "b'@01 0 OK BUSY -- 0\\r\\n'\n"
     ]
    }
   ],
   "source": [
    "s.sin(1000,100)         # 1st move mid pos... amp(1000(1 mm) or 10000(10 mm)) period(100 ms or 1000 ms)"
   ]
  },
  {
   "cell_type": "code",
   "execution_count": 10,
   "metadata": {
    "collapsed": false
   },
   "outputs": [
    {
     "name": "stdout",
     "output_type": "stream",
     "text": [
      "b'@01 0 OK BUSY NI 0\\r\\n'\n"
     ]
    }
   ],
   "source": [
    "s.sin_stop()"
   ]
  },
  {
   "cell_type": "code",
   "execution_count": 11,
   "metadata": {
    "collapsed": false
   },
   "outputs": [
    {
     "name": "stdout",
     "output_type": "stream",
     "text": [
      "Communication closed...\n"
     ]
    }
   ],
   "source": [
    "s.close()"
   ]
  },
  {
   "cell_type": "code",
   "execution_count": 8,
   "metadata": {
    "collapsed": false
   },
   "outputs": [],
   "source": []
  },
  {
   "cell_type": "code",
   "execution_count": 13,
   "metadata": {
    "collapsed": false
   },
   "outputs": [],
   "source": [
    "ser = serial.Serial('COM3', 115200 , timeout=1, parity=serial.PARITY_NONE)"
   ]
  },
  {
   "cell_type": "code",
   "execution_count": 14,
   "metadata": {
    "collapsed": false
   },
   "outputs": [
    {
     "name": "stdout",
     "output_type": "stream",
     "text": [
      "b'@01 0 OK BUSY FE 0\\r\\n'\n"
     ]
    }
   ],
   "source": [
    "ser.write(('/home\\r\\n').encode('utf-8'))\n",
    "qry = ser.readline()\n",
    "print(qry)\n"
   ]
  },
  {
   "cell_type": "code",
   "execution_count": 15,
   "metadata": {
    "collapsed": false
   },
   "outputs": [
    {
     "name": "stdout",
     "output_type": "stream",
     "text": [
      "b'@01 0 OK IDLE FE 0\\r\\n'\n",
      "b'@01 0 OK IDLE FE 0\\r\\n'\n"
     ]
    }
   ],
   "source": [
    "# periodic movement with triggers\n",
    "\n",
    "# from example\n",
    "#     /1 trigger 1 when 1 pos == 0↵ \n",
    "#     /1 trigger 1 action a 1 move abs 100000↵ \n",
    "#     /1 trigger 1 action b 1 maxspeed = 150000↵ \n",
    "#     /1 trigger 2 when 1 pos == 100000↵ \n",
    "#     /1 trigger 2 action a 1 move abs 0↵ \n",
    "#     /1 trigger 2 action b 1 maxspeed = 75000↵ \n",
    "#     /1 trigger 1 enable↵ \n",
    "#     /1 trigger 2 enable↵ \n",
    "\n",
    "# def periodic_different_speed(self, scan_range = 1e-3, vel1 = 20, vel2 = 40)\n",
    "# self.scan_range = scan_range\n",
    "# self.vel1 = vel1\n",
    "# self.vel2 = vel2\n",
    "pos1 = 5.5 # mm\n",
    "pos2 = 6.5 # mm\n",
    "vel1 = 20 # mm/s\n",
    "vel2 = 40 # mm/s\n",
    "accel = 800 # mm/s^2\n",
    "\n",
    "stepsize = 2e-4\n",
    "vel_factor = 8192\n",
    "accel_facror = 1.220703125\n",
    "\n",
    "# set current\n",
    "ser.write(('/set driver.current.run 7\\r\\n').encode('utf-8'))\n",
    "qry = ser.readline()\n",
    "print(qry)\n",
    "\n",
    "# set acceleration\n",
    "ser.write(('/set accel {:.0f}\\r\\n'.format(accel * accel_facror)).encode('utf-8'))\n",
    "qry = ser.readline()\n",
    "print(qry)\n",
    "\n",
    "\n",
    "\n",
    "# set periodic movement using triggers\n",
    "ser.write(('/trigger 1 when 1 pos == {:.0f}\\r\\n'.format(pos1/stepsize)).encode('utf-8'))\n",
    "qry = ser.readline()\n",
    "ser.write(('/trigger 2 when 1 pos == {:.0f}\\r\\n'.format(pos2/stepsize)).encode('utf-8'))\n",
    "qry = ser.readline()\n",
    "ser.write(('/trigger 1 action a 1 move abs {:.0f}\\r\\n'.format(pos2/stepsize)).encode('utf-8'))\n",
    "qry = ser.readline()\n",
    "ser.write(('/trigger 2 action a 1 move abs {:.0f}\\r\\n'.format(pos1/stepsize)).encode('utf-8'))\n",
    "qry = ser.readline()\n",
    "ser.write(('/trigger 1 action b 1 maxspeed = {:.0f}\\r\\n'.format(vel1*vel_factor)).encode('utf-8'))\n",
    "qry = ser.readline()\n",
    "ser.write(('/trigger 2 action b 1 maxspeed = {:.0f}\\r\\n'.format(vel2*vel_factor)).encode('utf-8'))\n",
    "qry = ser.readline()\n",
    "#enable triggers\n",
    "ser.write(('/trigger 1 enable\\r\\n').encode('utf-8'))\n",
    "qry = ser.readline()\n",
    "ser.write(('/trigger 2 enable\\r\\n').encode('utf-8'))\n",
    "qry = ser.readline()\n",
    "\n",
    "# start movement by moving to the trigger position\n",
    "ser.write(('/move abs {:.0f}\\r\\n'.format(pos1/stepsize)).encode('utf-8'))\n",
    "qry = ser.readline()\n",
    "\n",
    "\n",
    "\n"
   ]
  },
  {
   "cell_type": "code",
   "execution_count": 16,
   "metadata": {
    "collapsed": true
   },
   "outputs": [],
   "source": [
    "# stop movement -> disable triggers\n",
    "ser.write(('/trigger 1 disable\\r\\n').encode('utf-8'))\n",
    "qry = ser.readline()\n",
    "ser.write(('/trigger 2 disable\\r\\n').encode('utf-8'))\n",
    "qry = ser.readline()\n",
    "\n"
   ]
  },
  {
   "cell_type": "code",
   "execution_count": 123,
   "metadata": {
    "collapsed": false
   },
   "outputs": [
    {
     "data": {
      "text/plain": [
       "17"
      ]
     },
     "execution_count": 123,
     "metadata": {},
     "output_type": "execute_result"
    }
   ],
   "source": [
    "ser.write(('/move vel 1000 \\r\\n').encode('utf-8'))"
   ]
  },
  {
   "cell_type": "code",
   "execution_count": 45,
   "metadata": {
    "collapsed": false
   },
   "outputs": [
    {
     "data": {
      "text/plain": [
       "8"
      ]
     },
     "execution_count": 45,
     "metadata": {},
     "output_type": "execute_result"
    }
   ],
   "source": [
    "ser.write(('/stop \\r\\n').encode('utf-8'))"
   ]
  },
  {
   "cell_type": "code",
   "execution_count": 25,
   "metadata": {
    "collapsed": false
   },
   "outputs": [
    {
     "name": "stdout",
     "output_type": "stream",
     "text": [
      "b'@01 0 OK BUSY -- 0\\r\\n'\n",
      "b'@01 0 OK BUSY -- 0\\r\\n'\n"
     ]
    }
   ],
   "source": [
    "ser.write(('/move abs 25000 \\r\\n').encode('utf-8'))\n",
    "qry = ser.readline()\n",
    "print(qry)    \n",
    "\n",
    "# wait till iddle\n",
    "wait = True;\n",
    "while wait:\n",
    "    ser.write(('/get deviceid\\r\\n').encode('utf-8'))\n",
    "    qry = ser.readline()        \n",
    "    if qry.find(b'IDLE') != -1:\n",
    "        wait = False\n",
    "    time.sleep(0.1)\n",
    "\n",
    "\n",
    "\n",
    "ser.write(('/move abs 10000 \\r\\n').encode('utf-8'))\n",
    "qry = ser.readline()\n",
    "print(qry)"
   ]
  },
  {
   "cell_type": "code",
   "execution_count": 26,
   "metadata": {
    "collapsed": false
   },
   "outputs": [
    {
     "name": "stdout",
     "output_type": "stream",
     "text": [
      "b'@01 0 OK BUSY -- 0\\r\\n'\n"
     ]
    }
   ],
   "source": [
    "ser.write(('/move sin 10000 1000\\r\\n').encode('utf-8'))\n",
    "qry = ser.readline()\n",
    "print(qry)"
   ]
  },
  {
   "cell_type": "code",
   "execution_count": 17,
   "metadata": {
    "collapsed": false
   },
   "outputs": [],
   "source": [
    "ser.close()"
   ]
  },
  {
   "cell_type": "code",
   "execution_count": 198,
   "metadata": {
    "collapsed": false
   },
   "outputs": [
    {
     "data": {
      "text/plain": [
       "'/move abs 25.255  \\r\\n'"
      ]
     },
     "execution_count": 198,
     "metadata": {},
     "output_type": "execute_result"
    }
   ],
   "source": [
    "'/move abs {:.2f} {} \\r\\n'.format(25.2545,23.3587)"
   ]
  }
 ],
 "metadata": {
  "kernelspec": {
   "display_name": "Python 3",
   "language": "python",
   "name": "python3"
  },
  "language_info": {
   "codemirror_mode": {
    "name": "ipython",
    "version": 3
   },
   "file_extension": ".py",
   "mimetype": "text/x-python",
   "name": "python",
   "nbconvert_exporter": "python",
   "pygments_lexer": "ipython3",
   "version": "3.5.2"
  }
 },
 "nbformat": 4,
 "nbformat_minor": 2
}
