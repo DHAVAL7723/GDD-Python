{
 "cells": [
  {
   "cell_type": "code",
   "execution_count": 1,
   "metadata": {
    "collapsed": true
   },
   "outputs": [],
   "source": [
    "import matplotlib.pyplot as plt\n",
    "import scipy as sp\n",
    "from matplotlib.widgets import Button # , Slider\n",
    "import threading\n",
    "import sys\n",
    "import time\n",
    "import os\n",
    "from scipy import interpolate\n",
    "from scipy import signal\n",
    "import matplotlib.pyplot as plt\n",
    "import matplotlib\n",
    "from GDD import PicoScope as ps  # module for pico_scope\n",
    "from GDD import ZabberVoiceCoil # module to operate stage \n",
    "import numpy as np\n",
    "from IPython.display import display\n",
    "%matplotlib notebook\n"
   ]
  },
  {
   "cell_type": "code",
   "execution_count": 2,
   "metadata": {
    "collapsed": true
   },
   "outputs": [],
   "source": []
  },
  {
   "cell_type": "code",
   "execution_count": 6,
   "metadata": {},
   "outputs": [],
   "source": [
    "class ProcessGDD(object): #TODO live class\n",
    "   \n",
    "    def __init__(self):\n",
    "        \n",
    "        #initialize values\n",
    "        self.n_daq_smp = 1e6\n",
    "        #self.ps = ps.DAQ_parallel_channels(Samples_per_channel= self.n_daq_smp)\n",
    "        N = 1e6\n",
    "        self.timeS = sp.linspace(0,1,N)\n",
    "        self.signal_HeNe = sp.zeros(N)\n",
    "        self.signal_SC = sp.zeros(N)\n",
    "        \n",
    "    def update_data(self):\n",
    "        self.timeS,data = self.ps.DAQ_read()\n",
    "        self.timeS *=1e-9\n",
    "        self.signal_HeNe = data[:,0]\n",
    "        self.signal_SC = data[:,1]\n",
    "     \n",
    "    def close(self):\n",
    "        self.ps.DAQ_close()\n",
    "        \n",
    "       \n",
    "        "
   ]
  },
  {
   "cell_type": "code",
   "execution_count": 7,
   "metadata": {},
   "outputs": [],
   "source": [
    "class LiveOsci(object): #TODO live class\n",
    "  \n",
    "    def __init__(self,plot_obj):  #(self#,pico_scope,plot_obj)\n",
    "        self.process_inst = ProcessGDD()\n",
    "        self.plot_obj = plot_obj\n",
    "        global loopBool\n",
    "        loopBool = False\n",
    "    \n",
    "    def getbuttons(self):\n",
    "        axcolor = 'lightblue'\n",
    "        ttax = plt.axes([0.05, 0.01, 0.15, 0.06])\n",
    "        self.buttontt = Button(ttax, 'Single sweep', color=axcolor, hovercolor='0.975')\n",
    "        self.buttontt.on_clicked(self._update_trace)\n",
    "        \n",
    "        runax = plt.axes([0.35, 0.01, 0.05, 0.06])\n",
    "        self.buttonrun = Button(runax, 'Run', color=axcolor, hovercolor='0.975')\n",
    "        self.buttonrun.on_clicked(self._looping_pre) #the run command has to be started throgh a thread with a global condition in order to interupt it\n",
    "        \n",
    "        stopax = plt.axes([0.425, 0.01, 0.05, 0.06])\n",
    "        self.buttonstop = Button(stopax, 'Stop', color=axcolor, hovercolor='0.975')\n",
    "        self.buttonstop.on_clicked(self._stop_meas)\n",
    "\n",
    "        \n",
    "    def _looping_pre(self, event): #this is new\n",
    "        global loopBool\n",
    "        if (loopBool == False): #this is needed to prevent problems when the runbutton is started twice\n",
    "            thread=threading.Thread(target=self._run_meas,args=(event,))\n",
    "            thread.daemon=True   #might or might not be needed\n",
    "            thread.start()\n",
    "\n",
    "    def _run_meas(self,event):\n",
    "        global loopBool\n",
    "        loopBool = True\n",
    "\n",
    "        while loopBool:\n",
    "            data = sp.rand(100)*1000\n",
    "            self.process_inst.update_data()\n",
    "            self.plot_obj.update_plotfast1(data)\n",
    "            time.sleep(0.1)\n",
    "        \n",
    "    def _update_trace(self,event):\n",
    "        data = sp.rand(100)*1000\n",
    "        self.plot_obj.update_plotfast1(data)\n",
    "    \n",
    "    def _stop_meas(self, event):\n",
    "        global loopBool\n",
    "        loopBool = False\n",
    "        self.process_inst.close()"
   ]
  },
  {
   "cell_type": "code",
   "execution_count": 8,
   "metadata": {
    "collapsed": true
   },
   "outputs": [],
   "source": [
    "class FastPlotNotebook(object):\n",
    "    \"\"\"\n",
    "    Fast plot using %matplotlib notebook in jupyter notebook\n",
    "    \n",
    "    Usage:\n",
    "    ```\n",
    "    import time\n",
    "    updatepl =  FastPlotNotebook(wl1,Td)\n",
    "    for layer,T,Tbefore in zip(n[1:],Td[1:],Td[:-1]):\n",
    "        updatepl.update_plot(wl1,Tbefore,T)\n",
    "        time.sleep(0.2)\n",
    "    ```\n",
    "    \"\"\"\n",
    "    def __init__(self):\n",
    "         \n",
    "        self.p = p\n",
    "        fig,ax1 = plt.subplots(1,figsize=(15/2.54, 15/2.54))\n",
    "        self.fig = fig\n",
    "        self.ax1 = ax1\n",
    "        self.ax1.set_title('HeNe, IR')\n",
    "        self.ax1.set_xlim(0,1)\n",
    "        self.ax1.set_ylim(-10,10)\n",
    "        self.ax1.set_xlabel('Time (s)')\n",
    "        self.ax1.set_ylabel('Signal (a.u.)')     \n",
    "        timeS = self.p.timeS\n",
    "        signal_HeNe = self.p.signal_HeNe\n",
    "        signal_SC = self.p.signal_SC\n",
    "         \n",
    "        self.HeNe_pl, = self.ax1.plot(timeS[::100],signal_HeNe[::100])\n",
    "        self.SC_pl, = self.ax1.plot(timeS[::100],signal_SC[::100])\n",
    "        \n",
    "        \n",
    "        self.fig.tight_layout()\n",
    "        self.fig.subplots_adjust(wspace = 0.7,bottom = 0.2)\n",
    "    def update_plot(self,x1,y1,x2,y2):\n",
    "        self.line1.set_data(x1,y1)\n",
    "        self.line2.set_data(x2,y2)\n",
    "        self.ax1.set_xlim(x1.min(),x1.max())\n",
    "        self.ax1.set_ylim(-1000,1000)\n",
    "        self.ax2.set_xlim(x2.min(),x2.max())\n",
    "        self.ax2.set_ylim(-1000,1000)\n",
    "        self.fig.canvas.draw()\n",
    "        self.fig.tight_layout()\n",
    "        self.fig.subplots_adjust(wspace = 0.7,bottom = 0.2)\n",
    " "
   ]
  },
  {
   "cell_type": "code",
   "execution_count": 9,
   "metadata": {
    "scrolled": false
   },
   "outputs": [
    {
     "ename": "NameError",
     "evalue": "name 'p' is not defined",
     "output_type": "error",
     "traceback": [
      "\u001b[0;31m---------------------------------------------------------------------------\u001b[0m",
      "\u001b[0;31mNameError\u001b[0m                                 Traceback (most recent call last)",
      "\u001b[0;32m<ipython-input-9-affda02c8141>\u001b[0m in \u001b[0;36m<module>\u001b[0;34m()\u001b[0m\n\u001b[1;32m      1\u001b[0m \u001b[1;33m\u001b[0m\u001b[0m\n\u001b[0;32m----> 2\u001b[0;31m \u001b[0mplot_obj\u001b[0m \u001b[1;33m=\u001b[0m \u001b[0mFastPlotNotebook\u001b[0m\u001b[1;33m(\u001b[0m\u001b[1;33m)\u001b[0m\u001b[1;33m\u001b[0m\u001b[0m\n\u001b[0m\u001b[1;32m      3\u001b[0m \u001b[1;31m# rp =  ps.DAQ_parallel_channels()\u001b[0m\u001b[1;33m\u001b[0m\u001b[1;33m\u001b[0m\u001b[0m\n\u001b[1;32m      4\u001b[0m \u001b[1;33m\u001b[0m\u001b[0m\n\u001b[1;32m      5\u001b[0m \u001b[0mt\u001b[0m \u001b[1;33m=\u001b[0m \u001b[0msp\u001b[0m\u001b[1;33m.\u001b[0m\u001b[0mlinspace\u001b[0m\u001b[1;33m(\u001b[0m\u001b[1;36m0\u001b[0m\u001b[1;33m,\u001b[0m\u001b[1;36m1\u001b[0m\u001b[1;33m,\u001b[0m\u001b[1;36m100\u001b[0m\u001b[1;33m)\u001b[0m\u001b[1;33m\u001b[0m\u001b[0m\n",
      "\u001b[0;32m<ipython-input-8-95c7ddc4a715>\u001b[0m in \u001b[0;36m__init__\u001b[0;34m(self)\u001b[0m\n\u001b[1;32m     14\u001b[0m     \u001b[1;32mdef\u001b[0m \u001b[0m__init__\u001b[0m\u001b[1;33m(\u001b[0m\u001b[0mself\u001b[0m\u001b[1;33m)\u001b[0m\u001b[1;33m:\u001b[0m\u001b[1;33m\u001b[0m\u001b[0m\n\u001b[1;32m     15\u001b[0m \u001b[1;33m\u001b[0m\u001b[0m\n\u001b[0;32m---> 16\u001b[0;31m         \u001b[0mself\u001b[0m\u001b[1;33m.\u001b[0m\u001b[0mp\u001b[0m \u001b[1;33m=\u001b[0m \u001b[0mp\u001b[0m\u001b[1;33m\u001b[0m\u001b[0m\n\u001b[0m\u001b[1;32m     17\u001b[0m         \u001b[0mfig\u001b[0m\u001b[1;33m,\u001b[0m\u001b[0max1\u001b[0m \u001b[1;33m=\u001b[0m \u001b[0mplt\u001b[0m\u001b[1;33m.\u001b[0m\u001b[0msubplots\u001b[0m\u001b[1;33m(\u001b[0m\u001b[1;36m1\u001b[0m\u001b[1;33m,\u001b[0m\u001b[0mfigsize\u001b[0m\u001b[1;33m=\u001b[0m\u001b[1;33m(\u001b[0m\u001b[1;36m15\u001b[0m\u001b[1;33m/\u001b[0m\u001b[1;36m2.54\u001b[0m\u001b[1;33m,\u001b[0m \u001b[1;36m15\u001b[0m\u001b[1;33m/\u001b[0m\u001b[1;36m2.54\u001b[0m\u001b[1;33m)\u001b[0m\u001b[1;33m)\u001b[0m\u001b[1;33m\u001b[0m\u001b[0m\n\u001b[1;32m     18\u001b[0m         \u001b[0mself\u001b[0m\u001b[1;33m.\u001b[0m\u001b[0mfig\u001b[0m \u001b[1;33m=\u001b[0m \u001b[0mfig\u001b[0m\u001b[1;33m\u001b[0m\u001b[0m\n",
      "\u001b[0;31mNameError\u001b[0m: name 'p' is not defined"
     ]
    }
   ],
   "source": [
    "\n",
    "plot_obj = FastPlotNotebook()\n",
    "# rp =  ps.DAQ_parallel_channels()\n",
    "\n",
    "t = sp.linspace(0,1,100)\n",
    "\n",
    "\n",
    "plot_obj.update_plot(t,t,t,t*2)\n",
    "liveplt = LiveOsci(plot_obj) #rp,rpplot\n",
    "liveplt.getbuttons()"
   ]
  },
  {
   "cell_type": "code",
   "execution_count": 56,
   "metadata": {},
   "outputs": [],
   "source": [
    "plot_obj.fig.subplots_adjust(wspace = 0.7,bottom = 0.2)"
   ]
  },
  {
   "cell_type": "code",
   "execution_count": 10,
   "metadata": {
    "collapsed": true
   },
   "outputs": [],
   "source": [
    "rp.DAQ_close()"
   ]
  },
  {
   "cell_type": "code",
   "execution_count": 1,
   "metadata": {},
   "outputs": [
    {
     "data": {
      "text/plain": [
       "65536"
      ]
     },
     "execution_count": 1,
     "metadata": {},
     "output_type": "execute_result"
    }
   ],
   "source": [
    "2**16"
   ]
  },
  {
   "cell_type": "code",
   "execution_count": null,
   "metadata": {
    "collapsed": true
   },
   "outputs": [],
   "source": []
  },
  {
   "cell_type": "code",
   "execution_count": null,
   "metadata": {
    "collapsed": true
   },
   "outputs": [],
   "source": []
  },
  {
   "cell_type": "code",
   "execution_count": null,
   "metadata": {
    "collapsed": true
   },
   "outputs": [],
   "source": []
  },
  {
   "cell_type": "code",
   "execution_count": null,
   "metadata": {
    "collapsed": true
   },
   "outputs": [],
   "source": []
  },
  {
   "cell_type": "code",
   "execution_count": null,
   "metadata": {
    "collapsed": true
   },
   "outputs": [],
   "source": []
  },
  {
   "cell_type": "code",
   "execution_count": null,
   "metadata": {
    "collapsed": true
   },
   "outputs": [],
   "source": []
  }
 ],
 "metadata": {
  "kernelspec": {
   "display_name": "Python 3",
   "language": "python",
   "name": "python3"
  },
  "language_info": {
   "codemirror_mode": {
    "name": "ipython",
    "version": 3
   },
   "file_extension": ".py",
   "mimetype": "text/x-python",
   "name": "python",
   "nbconvert_exporter": "python",
   "pygments_lexer": "ipython3",
   "version": "3.6.4"
  }
 },
 "nbformat": 4,
 "nbformat_minor": 1
}
